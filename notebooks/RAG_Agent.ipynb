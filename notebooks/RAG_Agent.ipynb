{
 "cells": [
  {
   "cell_type": "code",
   "execution_count": 1,
   "metadata": {},
   "outputs": [],
   "source": [
    "from dotenv import load_dotenv\n",
    "load_dotenv()\n",
    "from llama_index.core.agent import ReActAgent\n",
    "from llama_index.llms.openai import OpenAI\n",
    "from llama_index.core.tools import FunctionTool\n",
    "from llama_index.core import SimpleDirectoryReader, VectorStoreIndex, Settings\n",
    "from llama_index.core.tools import QueryEngineTool\n",
    "\n",
    "# settings\n",
    "Settings.llm = OpenAI(model=\"gpt-3.5-turbo\",temperature=0)"
   ]
  },
  {
   "cell_type": "code",
   "execution_count": 2,
   "metadata": {},
   "outputs": [],
   "source": [
    "# function tools\n",
    "def multiply(a: float, b: float) -> float:\n",
    "    \"\"\"Multiply two numbers and returns the product\"\"\"\n",
    "    return a * b\n",
    "\n",
    "multiply_tool = FunctionTool.from_defaults(fn=multiply)\n",
    "\n",
    "def add(a: float, b: float) -> float:\n",
    "    \"\"\"Add two numbers and returns the sum\"\"\"\n",
    "    return a + b\n",
    "\n",
    "add_tool = FunctionTool.from_defaults(fn=add)"
   ]
  },
  {
   "cell_type": "code",
   "execution_count": 7,
   "metadata": {},
   "outputs": [
    {
     "name": "stdout",
     "output_type": "stream",
     "text": [
      "Creating new index...\n"
     ]
    }
   ],
   "source": [
    "import os\n",
    "from llama_index.core import (\n",
    "    SimpleDirectoryReader,\n",
    "    VectorStoreIndex,\n",
    "    StorageContext,\n",
    "    load_index_from_storage\n",
    ")\n",
    "from llama_index.embeddings.openai import OpenAIEmbedding\n",
    "\n",
    "def load_or_create_index(directory_path, persist_dir):\n",
    "        if os.path.exists(persist_dir):\n",
    "            print(\"Loading existing index...\")\n",
    "            storage_context = StorageContext.from_defaults(persist_dir=persist_dir)\n",
    "            index = load_index_from_storage(storage_context)\n",
    "        else:\n",
    "            print(\"Creating new index...\")\n",
    "            documents = SimpleDirectoryReader(directory_path, recursive=True).load_data()\n",
    "            index = VectorStoreIndex.from_documents(\n",
    "                documents=documents,\n",
    "                embed_model=OpenAIEmbedding(model_name=\"text-embedding-3-small\"),\n",
    "            )\n",
    "            index.storage_context.persist(persist_dir=persist_dir)\n",
    "        return index\n",
    "\n",
    "index = load_or_create_index(\n",
    "            \"data/rag/\",\n",
    "            \"storage\"\n",
    "        )\n",
    "query_engine = index.as_query_engine()\n",
    "\n",
    "budget_tool = QueryEngineTool.from_defaults(\n",
    "    query_engine, \n",
    "    name=\"canadian_budget_2023\",\n",
    "    description=\"A RAG engine with some basic facts about the 2023 Canadian federal budget.\"\n",
    ")"
   ]
  },
  {
   "cell_type": "code",
   "execution_count": 10,
   "metadata": {},
   "outputs": [
    {
     "name": "stdout",
     "output_type": "stream",
     "text": [
      "> Running step 5abbbbf5-4fb8-4195-b859-367787bf175b. Step input: What is the total amount of the 2023 Canadian federal budget multiplied by 3? Go step by step, you must use a tool to do any math.\n",
      "\u001b[1;3;38;5;200mThought: The current language of the user is: English. I need to use a tool to help me answer the question.\n",
      "Action: canadian_budget_2023\n",
      "Action Input: {'input': 'total'}\n",
      "\u001b[0m\u001b[1;3;34mObservation: 177\n",
      "\u001b[0m> Running step 265750d1-7be8-4b8b-9bb1-54cdedeec5c2. Step input: None\n",
      "\u001b[1;3;38;5;200mThought: I can answer without using any more tools. I'll use the user's language to answer\n",
      "Answer: The total amount of the 2023 Canadian federal budget multiplied by 3 is 177 billion.\n",
      "\u001b[0mThe total amount of the 2023 Canadian federal budget multiplied by 3 is 177 billion.\n"
     ]
    }
   ],
   "source": [
    "agent = ReActAgent.from_tools([multiply_tool, add_tool, budget_tool], verbose=True)\n",
    "\n",
    "response = agent.chat(\"What is the total amount of the 2023 Canadian federal budget multiplied by 3? Go step by step, you must use a tool to do any math.\")\n",
    "\n",
    "print(response)"
   ]
  }
 ],
 "metadata": {
  "kernelspec": {
   "display_name": "autorag",
   "language": "python",
   "name": "python3"
  },
  "language_info": {
   "codemirror_mode": {
    "name": "ipython",
    "version": 3
   },
   "file_extension": ".py",
   "mimetype": "text/x-python",
   "name": "python",
   "nbconvert_exporter": "python",
   "pygments_lexer": "ipython3",
   "version": "3.12.4"
  }
 },
 "nbformat": 4,
 "nbformat_minor": 2
}
