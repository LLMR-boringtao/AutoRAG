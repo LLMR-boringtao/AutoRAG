{
 "cells": [
  {
   "cell_type": "code",
   "execution_count": 1,
   "metadata": {},
   "outputs": [],
   "source": [
    "from dotenv import load_dotenv\n",
    "load_dotenv()\n",
    "from llama_index.core.agent import ReActAgent\n",
    "from llama_index.llms.openai import OpenAI\n",
    "from llama_index.core.tools import FunctionTool\n",
    "from llama_index.core import SimpleDirectoryReader, VectorStoreIndex, Settings\n",
    "from llama_index.core.tools import QueryEngineTool\n",
    "\n",
    "# settings\n",
    "Settings.llm = OpenAI(model=\"gpt-3.5-turbo\",temperature=0)"
   ]
  },
  {
   "cell_type": "code",
   "execution_count": 2,
   "metadata": {},
   "outputs": [],
   "source": [
    "# function tools\n",
    "def multiply(a: float, b: float) -> float:\n",
    "    \"\"\"Multiply two numbers and returns the product\"\"\"\n",
    "    return a * b\n",
    "\n",
    "multiply_tool = FunctionTool.from_defaults(fn=multiply)\n",
    "\n",
    "def add(a: float, b: float) -> float:\n",
    "    \"\"\"Add two numbers and returns the sum\"\"\"\n",
    "    return a + b\n",
    "\n",
    "add_tool = FunctionTool.from_defaults(fn=add)"
   ]
  },
  {
   "cell_type": "code",
   "execution_count": 7,
   "metadata": {},
   "outputs": [
    {
     "name": "stdout",
     "output_type": "stream",
     "text": [
      "Creating new index...\n"
     ]
    }
   ],
   "source": [
    "import os\n",
    "from llama_index.core import (\n",
    "    SimpleDirectoryReader,\n",
    "    VectorStoreIndex,\n",
    "    StorageContext,\n",
    "    load_index_from_storage\n",
    ")\n",
    "from llama_index.embeddings.openai import OpenAIEmbedding\n",
    "\n",
    "def load_or_create_index(directory_path, persist_dir):\n",
    "        if os.path.exists(persist_dir):\n",
    "            print(\"Loading existing index...\")\n",
    "            storage_context = StorageContext.from_defaults(persist_dir=persist_dir)\n",
    "            index = load_index_from_storage(storage_context)\n",
    "        else:\n",
    "            print(\"Creating new index...\")\n",
    "            documents = SimpleDirectoryReader(directory_path, recursive=True).load_data()\n",
    "            index = VectorStoreIndex.from_documents(\n",
    "                documents=documents,\n",
    "                embed_model=OpenAIEmbedding(model_name=\"text-embedding-3-small\"),\n",
    "            )\n",
    "            index.storage_context.persist(persist_dir=persist_dir)\n",
    "        return index\n",
    "\n",
    "index = load_or_create_index(\n",
    "            \"data/rag/\",\n",
    "            \"storage\"\n",
    "        )\n",
    "query_engine = index.as_query_engine()\n",
    "\n",
    "budget_tool = QueryEngineTool.from_defaults(\n",
    "    query_engine, \n",
    "    name=\"canadian_budget_2023\",\n",
    "    description=\"A RAG engine with some basic facts about the 2023 Canadian federal budget.\"\n",
    ")"
   ]
  },
  {
   "cell_type": "code",
   "execution_count": 11,
   "metadata": {},
   "outputs": [
    {
     "name": "stdout",
     "output_type": "stream",
     "text": [
      "$20 billion was allocated to a tax credit to promote investment in green technologies in the 2023 Canadian federal budget.\n"
     ]
    }
   ],
   "source": [
    "agent = ReActAgent.from_tools([multiply_tool, add_tool, budget_tool], verbose=True)\n",
    "\n",
    "response = query_engine.query(\"How much exactly was allocated to a tax credit to promote investment in green technologies in the 2023 Canadian federal budget?\")\n",
    "print(response)"
   ]
  },
  {
   "cell_type": "code",
   "execution_count": 13,
   "metadata": {},
   "outputs": [
    {
     "name": "stdout",
     "output_type": "stream",
     "text": [
      "Started parsing the file under job_id 6b1e93b9-5ace-480b-a1eb-61a068abcd79\n",
      "$20 billion was allocated to a tax credit to promote investment in green technologies in the 2023 Canadian federal budget.\n"
     ]
    }
   ],
   "source": [
    "from llama_parse import LlamaParse\n",
    "\n",
    "import nest_asyncio\n",
    "nest_asyncio.apply()\n",
    "\n",
    "documents2 = LlamaParse(result_type=\"markdown\").load_data(\n",
    "    \"data/rag/2023_canadian_budget.pdf\"\n",
    ")\n",
    "index2 = VectorStoreIndex.from_documents(documents2)\n",
    "query_engine2 = index2.as_query_engine()\n",
    "\n",
    "response2 = query_engine2.query(\n",
    "    \"How much exactly was allocated to a tax credit to promote investment in green technologies in the 2023 Canadian federal budget?\"\n",
    ")\n",
    "print(response2)"
   ]
  }
 ],
 "metadata": {
  "kernelspec": {
   "display_name": "autorag",
   "language": "python",
   "name": "python3"
  },
  "language_info": {
   "codemirror_mode": {
    "name": "ipython",
    "version": 3
   },
   "file_extension": ".py",
   "mimetype": "text/x-python",
   "name": "python",
   "nbconvert_exporter": "python",
   "pygments_lexer": "ipython3",
   "version": "3.12.4"
  }
 },
 "nbformat": 4,
 "nbformat_minor": 2
}
