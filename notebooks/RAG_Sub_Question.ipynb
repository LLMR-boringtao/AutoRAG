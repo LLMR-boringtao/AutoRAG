{
 "cells": [
  {
   "cell_type": "code",
   "execution_count": 1,
   "metadata": {},
   "outputs": [],
   "source": [
    "import openai\n",
    "import os\n",
    "import random\n",
    "from dotenv import load_dotenv\n",
    "load_dotenv()\n",
    "openai.api_key = os.getenv(\"OPENAI_API_KEY\")"
   ]
  },
  {
   "cell_type": "code",
   "execution_count": 5,
   "metadata": {},
   "outputs": [
    {
     "name": "stderr",
     "output_type": "stream",
     "text": [
      "[nltk_data] Downloading package punkt to /Users/boringtao/nltk_data...\n",
      "[nltk_data]   Package punkt is already up-to-date!\n",
      "[nltk_data] Downloading package punkt_tab to\n",
      "[nltk_data]     /Users/boringtao/nltk_data...\n",
      "[nltk_data]   Package punkt_tab is already up-to-date!\n"
     ]
    },
    {
     "data": {
      "text/plain": [
       "FileSystemPathPointer('/Users/boringtao/nltk_data/tokenizers/punkt_tab')"
      ]
     },
     "execution_count": 5,
     "metadata": {},
     "output_type": "execute_result"
    }
   ],
   "source": [
    "import nltk\n",
    "from llama_index.readers.file import UnstructuredReader\n",
    "from pathlib import Path\n",
    "\n",
    "# Ensure NLTK data is downloaded\n",
    "nltk.download('punkt')\n",
    "nltk.download('punkt_tab')\n",
    "nltk.find('tokenizers/punkt_tab')"
   ]
  },
  {
   "cell_type": "code",
   "execution_count": 3,
   "metadata": {},
   "outputs": [],
   "source": [
    "years = [2022, 2021, 2020, 2019]\n",
    "\n",
    "loader = UnstructuredReader()\n",
    "doc_set = {}\n",
    "all_docs = []\n",
    "for year in years:\n",
    "    year_docs = loader.load_data(\n",
    "        file=Path(f\"data/uber/UBER_{year}.html\"), split_documents=False\n",
    "    )\n",
    "    # insert year metadata into each year\n",
    "    for d in year_docs:\n",
    "        d.metadata = {\"year\": year}\n",
    "    doc_set[year] = year_docs\n",
    "    all_docs.extend(year_docs)"
   ]
  },
  {
   "cell_type": "code",
   "execution_count": 4,
   "metadata": {},
   "outputs": [
    {
     "name": "stdout",
     "output_type": "stream",
     "text": [
      "Loaded 4 documents\n"
     ]
    }
   ],
   "source": [
    "print(f\"Loaded {len(all_docs)} documents\")"
   ]
  },
  {
   "cell_type": "code",
   "execution_count": 6,
   "metadata": {},
   "outputs": [],
   "source": [
    "from llama_index.core import VectorStoreIndex, StorageContext\n",
    "from llama_index.embeddings.openai import OpenAIEmbedding\n",
    "from llama_index.llms.openai import OpenAI\n",
    "from llama_index.core import Settings\n",
    "\n",
    "Settings.chunk_size = 512\n",
    "Settings.chunk_overlap = 64\n",
    "Settings.llm = OpenAI(model=\"gpt-3.5-turbo\")\n",
    "Settings.embed_model = OpenAIEmbedding(model=\"text-embedding-3-small\")\n",
    "\n",
    "index_set = {}\n",
    "for year in years:\n",
    "    storage_context = StorageContext.from_defaults()\n",
    "    cur_index = VectorStoreIndex.from_documents(\n",
    "        doc_set[year],\n",
    "        storage_context=storage_context,\n",
    "    )\n",
    "    index_set[year] = cur_index\n",
    "    storage_context.persist(persist_dir=f\"storage/uber/{year}\")"
   ]
  },
  {
   "cell_type": "code",
   "execution_count": 7,
   "metadata": {},
   "outputs": [],
   "source": [
    "from llama_index.core import load_index_from_storage\n",
    "\n",
    "index_set = {}\n",
    "for year in years:\n",
    "    storage_context = StorageContext.from_defaults(\n",
    "        persist_dir=f\"storage/uber/{year}\"\n",
    "    )\n",
    "    cur_index = load_index_from_storage(\n",
    "        storage_context,\n",
    "    )\n",
    "    index_set[year] = cur_index"
   ]
  },
  {
   "cell_type": "code",
   "execution_count": 8,
   "metadata": {},
   "outputs": [],
   "source": [
    "from llama_index.core.tools import QueryEngineTool, ToolMetadata\n",
    "\n",
    "individual_query_engine_tools = [\n",
    "    QueryEngineTool(\n",
    "        query_engine=index_set[year].as_query_engine(),\n",
    "        metadata=ToolMetadata(\n",
    "            name=f\"vector_index_{year}\",\n",
    "            description=(\n",
    "                \"useful for when you want to answer queries about the\"\n",
    "                f\" {year} SEC 10-K for Uber\"\n",
    "            ),\n",
    "        ),\n",
    "    )\n",
    "    for year in years\n",
    "]"
   ]
  },
  {
   "cell_type": "code",
   "execution_count": 9,
   "metadata": {},
   "outputs": [],
   "source": [
    "from llama_index.core.query_engine import SubQuestionQueryEngine\n",
    "\n",
    "query_engine = SubQuestionQueryEngine.from_defaults(\n",
    "    query_engine_tools=individual_query_engine_tools,\n",
    ")"
   ]
  },
  {
   "cell_type": "code",
   "execution_count": 10,
   "metadata": {},
   "outputs": [],
   "source": [
    "query_engine_tool = QueryEngineTool(\n",
    "    query_engine=query_engine,\n",
    "    metadata=ToolMetadata(\n",
    "        name=\"sub_question_query_engine\",\n",
    "        description=(\n",
    "            \"useful for when you want to answer queries that require analyzing\"\n",
    "            \" multiple SEC 10-K documents for Uber\"\n",
    "        ),\n",
    "    ),\n",
    ")"
   ]
  },
  {
   "cell_type": "code",
   "execution_count": 13,
   "metadata": {},
   "outputs": [
    {
     "name": "stdout",
     "output_type": "stream",
     "text": [
      "Loaded 4 tools\n"
     ]
    }
   ],
   "source": [
    "tools = individual_query_engine_tools + [query_engine_tool]\n",
    "print(f\"Loaded {len(individual_query_engine_tools)} tools\")"
   ]
  },
  {
   "cell_type": "code",
   "execution_count": 14,
   "metadata": {},
   "outputs": [],
   "source": [
    "from llama_index.agent.openai import OpenAIAgent\n",
    "\n",
    "agent = OpenAIAgent.from_tools(tools, verbose=True)"
   ]
  },
  {
   "cell_type": "code",
   "execution_count": 15,
   "metadata": {},
   "outputs": [
    {
     "name": "stdout",
     "output_type": "stream",
     "text": [
      "Added user message to memory: hi, i am bob\n",
      "Hello Bob! How can I assist you today?\n"
     ]
    }
   ],
   "source": [
    "response = agent.chat(\"hi, i am bob\")\n",
    "print(str(response))"
   ]
  },
  {
   "cell_type": "code",
   "execution_count": 16,
   "metadata": {},
   "outputs": [
    {
     "name": "stdout",
     "output_type": "stream",
     "text": [
      "Added user message to memory: What were some of the biggest risk factors in 2020 for Uber?\n",
      "=== Calling Function ===\n",
      "Calling function: vector_index_2020 with args: {\"input\":\"biggest risk factors\"}\n",
      "Got output: The biggest risk factors include the adverse effects of the COVID-19 pandemic on the business, potential reclassification of Drivers, intense competition in the industries, significant losses and uncertain path to profitability, challenges in maintaining a critical mass of platform users, operational and cultural challenges, negative impact on brand reputation, difficulties in managing growth, safety incidents affecting platform users, financial impacts of the pandemic, and uncertainties related to the pandemic's long-term effects on business operations and financial results.\n",
      "========================\n",
      "\n",
      "In 2020, some of the biggest risk factors for Uber included the adverse effects of the COVID-19 pandemic on the business, potential reclassification of Drivers, intense competition in the industries, significant losses and uncertain path to profitability, challenges in maintaining a critical mass of platform users, operational and cultural challenges, negative impact on brand reputation, difficulties in managing growth, safety incidents affecting platform users, financial impacts of the pandemic, and uncertainties related to the pandemic's long-term effects on business operations and financial results.\n"
     ]
    }
   ],
   "source": [
    "response = agent.chat(\n",
    "    \"What were some of the biggest risk factors in 2020 for Uber?\"\n",
    ")\n",
    "print(str(response))"
   ]
  },
  {
   "cell_type": "code",
   "execution_count": 17,
   "metadata": {},
   "outputs": [
    {
     "name": "stdout",
     "output_type": "stream",
     "text": [
      "Added user message to memory: Compare/contrast the risk factors described in the Uber 10-K across years. Give answer in bullet points.\n",
      "=== Calling Function ===\n",
      "Calling function: sub_question_query_engine with args: {\"input\":\"compare and contrast risk factors\"}\n",
      "Generated 4 sub questions.\n",
      "Got output: Error: Detected nested async. Please use nest_asyncio.apply() to allow nested event loops.Or, use async entry methods like `aquery()`, `aretriever`, `achat`, etc.\n",
      "========================\n",
      "\n",
      "=== Calling Function ===\n",
      "Calling function: vector_index_2019 with args: {\"input\": \"biggest risk factors\"}\n",
      "Got output: The biggest risk factors include higher levels of credit risk and payment fraud, adverse tax consequences, complexities of foreign value added tax systems, difficulties in implementing financial systems across multiple jurisdictions, political and economic instability abroad, public health concerns like coronavirus, reduced protection for intellectual property rights in certain markets, limited influence over minority-owned affiliates, and significant risks associated with minority ownership positions in ridesharing and meal delivery companies.\n",
      "========================\n",
      "\n",
      "=== Calling Function ===\n",
      "Calling function: vector_index_2020 with args: {\"input\": \"biggest risk factors\"}\n",
      "Got output: The biggest risk factors include the adverse effects of the COVID-19 pandemic on the business, potential reclassification of Drivers, intense competition in the industries, significant losses and uncertain path to profitability, challenges in maintaining a critical mass of platform users, operational and cultural challenges, negative impact on brand reputation, difficulties in managing growth, potential safety incidents, financial impacts of fines or enforcement measures, and the unpredictable nature of the pandemic's long-term effects on business operations and financial results.\n",
      "========================\n",
      "\n",
      "=== Calling Function ===\n",
      "Calling function: vector_index_2021 with args: {\"input\": \"biggest risk factors\"}\n",
      "Got output: The biggest risk factors include the adverse effects of the COVID-19 pandemic on the business, potential reclassification of Drivers, intense competition in the industries, significant losses incurred, challenges in maintaining brand reputation, workplace culture issues, safety incidents, difficulties in managing growth, and risks associated with substantial investments in new offerings and technologies.\n",
      "========================\n",
      "\n",
      "=== Calling Function ===\n",
      "Calling function: vector_index_2022 with args: {\"input\": \"biggest risk factors\"}\n",
      "Got output: The biggest risk factors include potential adverse impacts from regulatory requirements related to climate change, failure to meet climate change commitments, outbreaks of contagious diseases or pandemics affecting business operations, occurrence of catastrophic events like disease outbreaks or terrorist attacks, risks related to health epidemics, and the impact of major safety incidents resulting from criminal or dangerous activities by platform users.\n",
      "========================\n",
      "\n",
      "Here is a comparison of the biggest risk factors described in the Uber 10-K across different years:\n",
      "\n",
      "2019:\n",
      "- Higher levels of credit risk and payment fraud\n",
      "- Adverse tax consequences\n",
      "- Difficulties in implementing financial systems across multiple jurisdictions\n",
      "- Political and economic instability abroad\n",
      "- Public health concerns like coronavirus\n",
      "- Reduced protection for intellectual property rights in certain markets\n",
      "- Limited influence over minority-owned affiliates\n",
      "- Significant risks associated with minority ownership positions in ridesharing and meal delivery companies\n",
      "\n",
      "2020:\n",
      "- Adverse effects of the COVID-19 pandemic on the business\n",
      "- Potential reclassification of Drivers\n",
      "- Intense competition in the industries\n",
      "- Significant losses and uncertain path to profitability\n",
      "- Challenges in maintaining a critical mass of platform users\n",
      "- Operational and cultural challenges\n",
      "- Negative impact on brand reputation\n",
      "- Difficulties in managing growth\n",
      "- Potential safety incidents\n",
      "- Financial impacts of fines or enforcement measures\n",
      "- Unpredictable nature of the pandemic's long-term effects on business operations and financial results\n",
      "\n",
      "2021:\n",
      "- Adverse effects of the COVID-19 pandemic on the business\n",
      "- Potential reclassification of Drivers\n",
      "- Intense competition in the industries\n",
      "- Significant losses incurred\n",
      "- Challenges in maintaining brand reputation\n",
      "- Workplace culture issues\n",
      "- Safety incidents\n",
      "- Difficulties in managing growth\n",
      "- Risks associated with substantial investments in new offerings and technologies\n",
      "\n",
      "2022:\n",
      "- Potential adverse impacts from regulatory requirements related to climate change\n",
      "- Failure to meet climate change commitments\n",
      "- Outbreaks of contagious diseases or pandemics affecting business operations\n",
      "- Occurrence of catastrophic events like disease outbreaks or terrorist attacks\n",
      "- Risks related to health epidemics\n",
      "- Impact of major safety incidents resulting from criminal or dangerous activities by platform users\n",
      "\n",
      "These risk factors highlight the evolving challenges and uncertainties faced by Uber over the years.\n"
     ]
    }
   ],
   "source": [
    "cross_query_str = (\n",
    "    \"Compare/contrast the risk factors described in the Uber 10-K across\"\n",
    "    \" years. Give answer in bullet points.\"\n",
    ")\n",
    "\n",
    "response = agent.chat(cross_query_str)\n",
    "print(str(response))"
   ]
  }
 ],
 "metadata": {
  "kernelspec": {
   "display_name": "autorag",
   "language": "python",
   "name": "python3"
  },
  "language_info": {
   "codemirror_mode": {
    "name": "ipython",
    "version": 3
   },
   "file_extension": ".py",
   "mimetype": "text/x-python",
   "name": "python",
   "nbconvert_exporter": "python",
   "pygments_lexer": "ipython3",
   "version": "3.12.4"
  }
 },
 "nbformat": 4,
 "nbformat_minor": 2
}
