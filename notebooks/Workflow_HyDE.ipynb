{
 "cells": [
  {
   "cell_type": "code",
   "execution_count": 1,
   "metadata": {},
   "outputs": [],
   "source": [
    "import openai\n",
    "import os\n",
    "import random\n",
    "from dotenv import load_dotenv\n",
    "load_dotenv()\n",
    "openai.api_key = os.getenv(\"OPENAI_API_KEY\")"
   ]
  },
  {
   "cell_type": "code",
   "execution_count": 2,
   "metadata": {},
   "outputs": [],
   "source": [
    "from llama_index.core import VectorStoreIndex, SimpleDirectoryReader\n",
    "from llama_index.core.indices.query.query_transform import HyDEQueryTransform\n",
    "from llama_index.core.query_engine import TransformQueryEngine\n",
    "from IPython.display import Markdown, display\n",
    "\n",
    "from llama_index.core import (\n",
    "    SimpleDirectoryReader,\n",
    "    VectorStoreIndex,\n",
    "    StorageContext,\n",
    "    load_index_from_storage,\n",
    ")\n",
    "\n",
    "from llama_index.core.tools import QueryEngineTool, ToolMetadata\n",
    "\n",
    "# define global callback setting\n",
    "from llama_index.core.settings import Settings\n",
    "from llama_index.core.callbacks import CallbackManager"
   ]
  },
  {
   "cell_type": "code",
   "execution_count": 3,
   "metadata": {},
   "outputs": [],
   "source": [
    "\n",
    "try:\n",
    "    storage_context = StorageContext.from_defaults(\n",
    "        persist_dir=\"storage/lyft\"\n",
    "    )\n",
    "    lyft_index = load_index_from_storage(storage_context)\n",
    "\n",
    "    storage_context = StorageContext.from_defaults(\n",
    "        persist_dir=\"storage/uber\"\n",
    "    )\n",
    "    uber_index = load_index_from_storage(storage_context)\n",
    "\n",
    "    index_loaded = True\n",
    "except:\n",
    "    index_loaded = False"
   ]
  },
  {
   "cell_type": "code",
   "execution_count": 4,
   "metadata": {},
   "outputs": [],
   "source": [
    "from llama_index.embeddings.openai import OpenAIEmbedding\n",
    "\n",
    "if not index_loaded:\n",
    "    # load data\n",
    "    lyft_docs = SimpleDirectoryReader(\n",
    "        input_files=[\"data/pdf/lyft_2021.pdf\"]\n",
    "    ).load_data()\n",
    "    uber_docs = SimpleDirectoryReader(\n",
    "        input_files=[\"data/pdf/uber_2021.pdf\"]\n",
    "    ).load_data()\n",
    "\n",
    "    # build index\n",
    "    lyft_index = VectorStoreIndex.from_documents(lyft_docs, embed_model=OpenAIEmbedding(model_name=\"text-embedding-3-small\"))\n",
    "    uber_index = VectorStoreIndex.from_documents(uber_docs, embed_model=OpenAIEmbedding(model_name=\"text-embedding-3-small\"))\n",
    "\n",
    "    # persist index\n",
    "    lyft_index.storage_context.persist(persist_dir=\"storage/pdf/lyft\")\n",
    "    uber_index.storage_context.persist(persist_dir=\"storage/pdf/uber\")"
   ]
  },
  {
   "cell_type": "code",
   "execution_count": 17,
   "metadata": {},
   "outputs": [],
   "source": [
    "lyft_engine = lyft_index.as_query_engine(similarity_top_k=3)\n",
    "uber_engine = uber_index.as_query_engine(similarity_top_k=3)\n",
    "\n",
    "\n",
    "hyde = HyDEQueryTransform(include_original=True)\n",
    "lyft_hyde_query_engine = TransformQueryEngine(lyft_engine, hyde)\n",
    "uber_hyde_query_engine = TransformQueryEngine(uber_engine, hyde)"
   ]
  },
  {
   "cell_type": "code",
   "execution_count": 10,
   "metadata": {},
   "outputs": [
    {
     "name": "stdout",
     "output_type": "stream",
     "text": [
      "The revenue of Lyft for the year ended December 31, 2021 was $3,208,323.\n"
     ]
    }
   ],
   "source": [
    "print(lyft_hyde_query_engine.query(\"What is the revenue of Lyft?\"))"
   ]
  },
  {
   "cell_type": "code",
   "execution_count": 12,
   "metadata": {},
   "outputs": [],
   "source": [
    "query_engine_tools = [\n",
    "    QueryEngineTool(\n",
    "        query_engine=lyft_hyde_query_engine,\n",
    "        metadata=ToolMetadata(\n",
    "            name=\"lyft_10k\",\n",
    "            description=(\n",
    "                \"Provides information about Lyft financials for year 2021. \"\n",
    "                \"Use a detailed plain text question as input to the tool.\"\n",
    "            ),\n",
    "        ),\n",
    "    ),\n",
    "    QueryEngineTool(\n",
    "        query_engine=uber_hyde_query_engine,\n",
    "        metadata=ToolMetadata(\n",
    "            name=\"uber_10k\",\n",
    "            description=(\n",
    "                \"Provides information about Uber financials for year 2021. \"\n",
    "                \"Use a detailed plain text question as input to the tool.\"\n",
    "            ),\n",
    "        ),\n",
    "    ),\n",
    "]"
   ]
  },
  {
   "cell_type": "code",
   "execution_count": 13,
   "metadata": {},
   "outputs": [],
   "source": [
    "from llama_index.core.agent import ReActAgent\n",
    "\n",
    "agent = ReActAgent.from_tools(query_engine_tools, verbose=True)"
   ]
  },
  {
   "cell_type": "code",
   "execution_count": 9,
   "metadata": {},
   "outputs": [
    {
     "name": "stdout",
     "output_type": "stream",
     "text": [
      "> Running step 6ccd072b-bc97-4e54-91b9-2a549c207a43. Step input: How much exactly was the profit differences between Lyft and Uber in 2021?\n",
      "\u001b[1;3;38;5;200mThought: The user is asking for the profit differences between Lyft and Uber in 2021. I need to use the financial tools to gather this information.\n",
      "Action: lyft_10k\n",
      "Action Input: {'input': 'What was the profit of Lyft in 2021?'}\n",
      "\u001b[0m\u001b[1;3;34mObservation: Lyft's profit in 2021 was $1.0 billion.\n",
      "\u001b[0m> Running step 4aa92f46-81de-48af-bacd-1adba1c24ceb. Step input: None\n",
      "\u001b[1;3;38;5;200mThought: I now have the profit information for Lyft in 2021. I need to gather the profit information for Uber in 2021 to calculate the profit difference between the two companies.\n",
      "Action: uber_10k\n",
      "Action Input: {'input': 'What was the profit of Uber in 2021?'}\n",
      "\u001b[0m\u001b[1;3;34mObservation: Uber had a profit of $1.6 billion in 2021.\n",
      "\u001b[0m> Running step ef0b53d6-b413-4307-9976-fc2fe9b90540. Step input: None\n",
      "\u001b[1;3;38;5;200mThought: I have the profit information for both Lyft and Uber in 2021. Now, I can calculate the profit difference between the two companies.\n",
      "Answer: The profit difference between Lyft and Uber in 2021 was $0.6 billion, with Uber having a higher profit of $1.6 billion compared to Lyft's profit of $1.0 billion.\n",
      "\u001b[0mThe profit difference between Lyft and Uber in 2021 was $0.6 billion, with Uber having a higher profit of $1.6 billion compared to Lyft's profit of $1.0 billion.\n"
     ]
    }
   ],
   "source": [
    "response = agent.query(\"How much exactly was the profit differences between Lyft and Uber in 2021?\")\n",
    "print(response)"
   ]
  }
 ],
 "metadata": {
  "kernelspec": {
   "display_name": "autorag",
   "language": "python",
   "name": "python3"
  },
  "language_info": {
   "codemirror_mode": {
    "name": "ipython",
    "version": 3
   },
   "file_extension": ".py",
   "mimetype": "text/x-python",
   "name": "python",
   "nbconvert_exporter": "python",
   "pygments_lexer": "ipython3",
   "version": "3.12.4"
  }
 },
 "nbformat": 4,
 "nbformat_minor": 2
}
